{
 "cells": [
  {
   "cell_type": "code",
   "execution_count": 6,
   "metadata": {
    "collapsed": true
   },
   "outputs": [],
   "source": [
    "from bs4 import BeautifulSoup\n",
    "import requests\n",
    "import re"
   ]
  },
  {
   "cell_type": "code",
   "execution_count": 7,
   "metadata": {
    "collapsed": true
   },
   "outputs": [],
   "source": [
    "def get_soup(url):\n",
    "\n",
    "    headers = {'User-Agent': 'Mozilla/5.0 (X11; Ubuntu; Linux x86_64; rv:57.0) Gecko/20100101 Firefox/57.0'}\n",
    "\n",
    "    r = s.get(url, headers=headers)\n",
    "\n",
    "    #with open('temp.html', 'wb') as f:\n",
    "    #    f.write(r.content)\n",
    "    #    webbrowser.open('temp.html')\n",
    "\n",
    "    if r.status_code != 200:\n",
    "        print('status code:', r.status_code)\n",
    "    else:\n",
    "        return BeautifulSoup(r.text, 'html.parser')"
   ]
  },
  {
   "cell_type": "code",
   "execution_count": 8,
   "metadata": {
    "collapsed": true
   },
   "outputs": [],
   "source": [
    "s = requests.Session()"
   ]
  },
  {
   "cell_type": "code",
   "execution_count": 29,
   "metadata": {},
   "outputs": [],
   "source": [
    "def review_body(url, response):\n",
    "    print('review_url:', url)\n",
    "\n",
    "    if not response:\n",
    "        print('no response:', url)\n",
    "        return\n",
    "    \n",
    "    body = response.find_all('a', class_='property_title')\n",
    "    \n",
    "#     print(response.prettify())\n",
    "    \n",
    "#     hotels = body.find_all(\"div\", class_='listing easyClear  p13n_imperfect hideUrgencyMessaging')\n",
    "    \n",
    "    for i,hotel in enumerate(body):\n",
    "        hotel_url = 'https://www.tripadvisor.com'+hotel['href']\n",
    "        print(\"'\",hotel_url,\"',\")\n"
   ]
  },
  {
   "cell_type": "code",
   "execution_count": 30,
   "metadata": {},
   "outputs": [
    {
     "name": "stdout",
     "output_type": "stream",
     "text": [
      "review_url: https://www.tripadvisor.com/Hotels-g660378-Palestinian_Territories-Hotels.html\n",
      "' https://www.tripadvisor.com/Hotel_Review-g667136-d1011353-Reviews-City_Inn_Palace_Hotel-Ramallah_Binyamin_Region_West_Bank.html ',\n",
      "' https://www.tripadvisor.com/Hotel_Review-g667394-d10060492-Reviews-Queen_Plaza_Hotel-Hebron_West_Bank.html ',\n",
      "' https://www.tripadvisor.com/Hotel_Review-g667136-d1918230-Reviews-Grand_Park_Hotel-Ramallah_Binyamin_Region_West_Bank.html ',\n",
      "' https://www.tripadvisor.com/Hotel_Review-g667136-d6416417-Reviews-Palestine_Plaza_Hotel-Ramallah_Binyamin_Region_West_Bank.html ',\n",
      "' https://www.tripadvisor.com/Hotel_Review-g667136-d1958679-Reviews-Caesar_Hotel-Ramallah_Binyamin_Region_West_Bank.html ',\n",
      "' https://www.tripadvisor.com/Hotel_Review-g667390-d11019420-Reviews-Royal_Suites-Nablus_West_Bank.html ',\n",
      "' https://www.tripadvisor.com/Hotel_Review-g663088-d13576821-Reviews-AL_Mathaf_Hotel-Gaza_City_Gaza.html ',\n",
      "' https://www.tripadvisor.com/Hotel_Review-g667136-d1572723-Reviews-Royal_Court_Hotel-Ramallah_Binyamin_Region_West_Bank.html ',\n",
      "' https://www.tripadvisor.com/Hotel_Review-g297750-d657651-Reviews-Jericho_Resort_Village-Jericho_West_Bank.html ',\n",
      "' https://www.tripadvisor.com/Hotel_Review-g667136-d7383224-Reviews-Casablanca_Hotel_Ramallah-Ramallah_Binyamin_Region_West_Bank.html ',\n",
      "' https://www.tripadvisor.com/Hotel_Review-g667395-d13474485-Reviews-North_Gate_Hotel-Jenin_West_Bank.html ',\n",
      "' https://www.tripadvisor.com/Hotel_Review-g667390-d10169216-Reviews-Hotel_Crystal_Motel-Nablus_West_Bank.html ',\n",
      "' https://www.tripadvisor.com/Hotel_Review-g663088-d1205501-Reviews-Grand_Palace_Hotel-Gaza_City_Gaza.html ',\n",
      "' https://www.tripadvisor.com/Hotel_Review-g293978-d1205571-Reviews-Sancta_Maria_Hotel-Bethlehem_West_Bank.html ',\n",
      "' https://www.tripadvisor.com/Hotel_Review-g667136-d12982352-Reviews-Millennium_Palestine_Ramallah-Ramallah_Binyamin_Region_West_Bank.html ',\n",
      "' https://www.tripadvisor.com/Hotel_Review-g293978-d4469435-Reviews-Ararat_Hotel-Bethlehem_West_Bank.html ',\n",
      "' https://www.tripadvisor.com/Hotel_Review-g293978-d2218659-Reviews-Shepherd_Plaza_Hotel-Bethlehem_West_Bank.html ',\n",
      "' https://www.tripadvisor.com/Hotel_Review-g293978-d325647-Reviews-Jacir_Palace_Hotel_Bethlehem-Bethlehem_West_Bank.html ',\n",
      "' https://www.tripadvisor.com/Hotel_Review-g297750-d308910-Reviews-Oasis_Hotel_Jericho-Jericho_West_Bank.html ',\n",
      "' https://www.tripadvisor.com/Hotel_Review-g293978-d4747825-Reviews-Nativity_Hotel-Bethlehem_West_Bank.html ',\n",
      "' https://www.tripadvisor.com/Hotel_Review-g1902315-d2351635-Reviews-Shepherds_House-Beit_Sahour_West_Bank.html ',\n",
      "' https://www.tripadvisor.com/Hotel_Review-g293978-d2277541-Reviews-Nativity_Bells_Hotel-Bethlehem_West_Bank.html ',\n",
      "' https://www.tripadvisor.com/Hotel_Review-g293978-d1911175-Reviews-Sahara_Hotel-Bethlehem_West_Bank.html ',\n",
      "' https://www.tripadvisor.com/Hotel_Review-g663088-d7021114-Reviews-Roots_Hotel-Gaza_City_Gaza.html ',\n",
      "' https://www.tripadvisor.com/Hotel_Review-g667390-d4476290-Reviews-Hotel_Al_Qasr-Nablus_West_Bank.html ',\n",
      "' https://www.tripadvisor.com/Hotel_Review-g663088-d594409-Reviews-Al_Deira-Gaza_City_Gaza.html ',\n",
      "' https://www.tripadvisor.com/Hotel_Review-g663088-d1974787-Reviews-Al_Mathaf_Recreational_and_Cultural_house-Gaza_City_Gaza.html ',\n",
      "' https://www.tripadvisor.com/Hotel_Review-g293978-d1794304-Reviews-Bethlehem_Star_Hotel-Bethlehem_West_Bank.html ',\n",
      "' https://www.tripadvisor.com/Hotel_Review-g674749-d506818-Reviews-Eshel_Hashomron_Hotel-Ariel_West_Bank.html ',\n",
      "' https://www.tripadvisor.com/Hotel_Review-g2550211-d308690-Reviews-Almog_Holiday_Village-Almog_Dead_Sea_Region_West_Bank.html ',\n"
     ]
    }
   ],
   "source": [
    "url = 'https://www.tripadvisor.com/Hotels-g660378-Palestinian_Territories-Hotels.html'\n",
    "\n",
    "review_body(url,get_soup(url))"
   ]
  },
  {
   "cell_type": "code",
   "execution_count": null,
   "metadata": {},
   "outputs": [],
   "source": []
  },
  {
   "cell_type": "code",
   "execution_count": null,
   "metadata": {
    "collapsed": true
   },
   "outputs": [],
   "source": []
  }
 ],
 "metadata": {
  "kernelspec": {
   "display_name": "Python 3",
   "language": "python",
   "name": "python3"
  },
  "language_info": {
   "codemirror_mode": {
    "name": "ipython",
    "version": 3
   },
   "file_extension": ".py",
   "mimetype": "text/x-python",
   "name": "python",
   "nbconvert_exporter": "python",
   "pygments_lexer": "ipython3",
   "version": "3.6.3"
  }
 },
 "nbformat": 4,
 "nbformat_minor": 2
}
